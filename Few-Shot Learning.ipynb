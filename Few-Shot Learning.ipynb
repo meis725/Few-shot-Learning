{
 "cells": [
  {
   "cell_type": "code",
   "execution_count": 1,
   "metadata": {},
   "outputs": [],
   "source": [
    "import numpy as np\n",
    "import copy\n",
    "import glob\n",
    "from matplotlib.pyplot import imread\n",
    "from scipy.spatial.distance import cdist"
   ]
  },
  {
   "cell_type": "code",
   "execution_count": 2,
   "metadata": {},
   "outputs": [],
   "source": [
    "# Parameters\n",
    "nrun = 10 # number of classification runs\n",
    "fname_label = 'class_labels.txt' # where class labels are stored for each run"
   ]
  },
  {
   "cell_type": "code",
   "execution_count": 3,
   "metadata": {},
   "outputs": [],
   "source": [
    "def classification_run(folder,f_cost):\n",
    "    # Compute error rate for one run of few-shot classification\n",
    "\n",
    "    # get file names\n",
    "    with open(folder+'/'+fname_label) as f:\n",
    "        content = f.read().splitlines()\n",
    "    pairs = [line.split() for line in content]\n",
    "    test_files  = [pair[0] for pair in pairs]\n",
    "    train_files = [pair[1] for pair in pairs]\n",
    "    answers_files = copy.copy(train_files)\n",
    "    test_files.sort()\n",
    "    train_files.sort()\n",
    "    ntrain = len(train_files)\n",
    "    ntest = len(test_files)\n",
    "\n",
    "    # load the images (and, if needed, extract features)\n",
    "    train_items = [LoadImages(f, 'train') for f in train_files]\n",
    "    test_items  = [LoadImages(test_files, 'test')]\n",
    "\n",
    "    # create a numpy array for final results\n",
    "    final = np.zeros((ntest))\n",
    "    for i in range(ntest):\n",
    "        # numpy array for temporary results\n",
    "        results = np.zeros((len(train_items[0]), ntrain))\n",
    "        for c in range(ntrain):\n",
    "            # match each test item against all the training items.\n",
    "            for d, val in enumerate(train_items[c]):\n",
    "                cost = f_cost(test_items[0][i],val)\n",
    "                results[d][c] = cost\n",
    "        # find minimum value from temporary results\n",
    "        results = np.amin(results, axis = 0)\n",
    "        # find the minimum index from temporary results and assign as the final result.\n",
    "        final[i] = np.argmin(results, axis = 0)\n",
    "\n",
    "    # compute the error rate\n",
    "    correct = 0.0\n",
    "    for i in range(ntest):\n",
    "        if train_files[int(final[i])] == answers_files[i]:\n",
    "            correct += 1.0\n",
    "    pcorrect = 100 * correct / ntest\n",
    "    perror = 100 - pcorrect\n",
    "    return perror"
   ]
  },
  {
   "cell_type": "code",
   "execution_count": 4,
   "metadata": {},
   "outputs": [],
   "source": [
    "def ModHausdorffDistance(itemA,itemB):\n",
    "    # Modified Hausdorff Distance\n",
    "    #\n",
    "    # Input\n",
    "    #  itemA : [n x 2] coordinates of \"inked\" pixels\n",
    "    #  itemB : [m x 2] coordinates of \"inked\" pixels\n",
    "    #\n",
    "    #  M.-P. Dubuisson, A. K. Jain (1994). A modified hausdorff distance for object matching.\n",
    "    #  International Conference on Pattern Recognition, pp. 566-568.\n",
    "    #\n",
    "    D = cdist(itemA,itemB)\n",
    "    mindist_A = D.min(axis=1)\n",
    "    mindist_B = D.min(axis=0)\n",
    "    mean_A = np.mean(mindist_A)\n",
    "    mean_B = np.mean(mindist_B)\n",
    "    return max(mean_A,mean_B)"
   ]
  },
  {
   "cell_type": "code",
   "execution_count": 5,
   "metadata": {},
   "outputs": [],
   "source": [
    "def LoadImages(fn, type):\n",
    "    paths = None\n",
    "    if type == 'train':\n",
    "        paths = glob.glob(fn + \"/*.png\")\n",
    "    elif type == 'test':\n",
    "        paths = fn\n",
    "    else:\n",
    "        assert False\n",
    "\n",
    "    return LoadImgAsPoints(paths)\n",
    "\n",
    "\n",
    "def LoadImgAsPoints(paths):\n",
    "    # Load image file and return coordinates of 'inked' pixels in the binary image\n",
    "    #\n",
    "    # Output:\n",
    "    #  return a list of D : [n x 2] rows are coordinates\n",
    "    results = []\n",
    "\n",
    "    for i in paths:\n",
    "        I = imread(i)\n",
    "        I = np.array(I,dtype=bool)\n",
    "        I = np.logical_not(I)\n",
    "        (row,col) = I.nonzero()\n",
    "        D = np.array([row,col])\n",
    "        D = np.transpose(D)\n",
    "        D = D.astype(float)\n",
    "        n = D.shape[0]\n",
    "        mean = np.mean(D,axis=0)\n",
    "        for i in range(n):\n",
    "            D[i,:] = D[i,:] - mean\n",
    "        results.append(D)\n",
    "\n",
    "    return results"
   ]
  },
  {
   "cell_type": "code",
   "execution_count": null,
   "metadata": {},
   "outputs": [
    {
     "name": "stdout",
     "output_type": "stream",
     "text": [
      "few-shot classification demo with Modified Hausdorff Distance\n",
      " run 1 (error 10.0%)\n",
      " run 2 (error 0.0%)\n",
      " run 3 (error 20.0%)\n",
      " run 4 (error 10.0%)\n",
      " run 5 (error 15.0%)\n",
      " run 6 (error 20.0%)\n"
     ]
    }
   ],
   "source": [
    "    #   M.-P. Dubuisson, A. K. Jain (1994). A modified hausdorff distance for object matching.\n",
    "    #     International Conference on Pattern Recognition, pp. 566-568.\n",
    "    #\n",
    "    print('few-shot classification demo with Modified Hausdorff Distance')\n",
    "    perror = np.zeros(nrun)\n",
    "    for r in range(1,nrun+1):\n",
    "        rs = str(r)\n",
    "        if len(rs)==1:\n",
    "            rs = '0' + rs\n",
    "        perror[r-1] = classification_run('data/run' + rs, ModHausdorffDistance)\n",
    "        print (\" run \" + str(r) + \" (error \" + str(\tperror[r-1] ) + \"%)\")\n",
    "    total = np.mean(perror)\n",
    "    print (\" average error \" + str(total) + \"%\")"
   ]
  },
  {
   "cell_type": "code",
   "execution_count": null,
   "metadata": {},
   "outputs": [],
   "source": []
  }
 ],
 "metadata": {
  "kernelspec": {
   "display_name": "Python 3",
   "language": "python",
   "name": "python3"
  },
  "language_info": {
   "codemirror_mode": {
    "name": "ipython",
    "version": 3
   },
   "file_extension": ".py",
   "mimetype": "text/x-python",
   "name": "python",
   "nbconvert_exporter": "python",
   "pygments_lexer": "ipython3",
   "version": "3.6.4"
  }
 },
 "nbformat": 4,
 "nbformat_minor": 2
}
